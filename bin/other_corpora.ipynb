{
 "cells": [
  {
   "cell_type": "code",
   "execution_count": 39,
   "metadata": {},
   "outputs": [],
   "source": [
    "import matplotlib.pyplot as plt\n",
    "import numpy as np\n",
    "import os\n",
    "import pandas as pd\n",
    "import re\n",
    "import scipy.stats as stats\n",
    "import string"
   ]
  },
  {
   "cell_type": "code",
   "execution_count": 99,
   "metadata": {},
   "outputs": [],
   "source": [
    "data_path = '/home/michaelneuder/github/shakespeare/data'"
   ]
  },
  {
   "cell_type": "code",
   "execution_count": 100,
   "metadata": {},
   "outputs": [],
   "source": [
    "data = pd.read_csv(os.path.join(data_path, 'wiki_movie_plots_deduped.csv'))"
   ]
  },
  {
   "cell_type": "code",
   "execution_count": 101,
   "metadata": {},
   "outputs": [],
   "source": [
    "words = ''\n",
    "remove = string.punctuation\n",
    "pattern = r\"[{}]\".format(remove) \n",
    "\n",
    "for index, row in data.iterrows():\n",
    "    words += re.sub(pattern, \"\",row['Plot'].lower())"
   ]
  },
  {
   "cell_type": "code",
   "execution_count": 102,
   "metadata": {},
   "outputs": [],
   "source": [
    "words = words.split()"
   ]
  },
  {
   "cell_type": "code",
   "execution_count": 103,
   "metadata": {},
   "outputs": [],
   "source": [
    "counts = dict()\n",
    "for word in words:\n",
    "    counts[word] = counts.get(word, 0) + 1"
   ]
  },
  {
   "cell_type": "code",
   "execution_count": 104,
   "metadata": {},
   "outputs": [],
   "source": [
    "sorted_by_value = sorted(counts.items(), key=lambda kv: kv[1])"
   ]
  },
  {
   "cell_type": "code",
   "execution_count": 105,
   "metadata": {},
   "outputs": [],
   "source": [
    "sorted_max = sorted_by_value[::-1]"
   ]
  },
  {
   "cell_type": "code",
   "execution_count": 106,
   "metadata": {},
   "outputs": [],
   "source": [
    "vals_plots = [val[1]/sorted_max[0][1] for val in sorted_max[:1000]]"
   ]
  },
  {
   "cell_type": "code",
   "execution_count": 121,
   "metadata": {},
   "outputs": [],
   "source": [
    "plt.style.use('ggplot')"
   ]
  },
  {
   "cell_type": "code",
   "execution_count": 123,
   "metadata": {},
   "outputs": [
    {
     "data": {
      "image/png": "[encoded data removed]",
      "text/plain": [
       "<Figure size 720x360 with 1 Axes>"
      ]
     },
     "metadata": {},
     "output_type": "display_data"
    }
   ],
   "source": [
    "f, ax = plt.subplots(figsize=(10,5))\n",
    "ax.plot(np.arange(1, len(vals_plots)+1), vals_plots, '.')\n",
    "ax.set_xlabel('rank ($r$)')\n",
    "ax.set_ylabel('frequency ($f$)')\n",
    "plt.savefig('modern_normal.png')"
   ]
  },
  {
   "cell_type": "code",
   "execution_count": 69,
   "metadata": {},
   "outputs": [],
   "source": [
    "shake_data = pd.read_csv(os.path.join(data_path, 'Shakespeare_data.csv'))"
   ]
  },
  {
   "cell_type": "code",
   "execution_count": 70,
   "metadata": {},
   "outputs": [],
   "source": [
    "words = ''\n",
    "remove = string.punctuation\n",
    "pattern = r\"[{}]\".format(remove) \n",
    "\n",
    "for index, row in shake_data.iterrows():\n",
    "    words += re.sub(pattern, \"\",row['PlayerLine'].lower())"
   ]
  },
  {
   "cell_type": "code",
   "execution_count": 71,
   "metadata": {},
   "outputs": [],
   "source": [
    "words = words.split()"
   ]
  },
  {
   "cell_type": "code",
   "execution_count": 72,
   "metadata": {},
   "outputs": [],
   "source": [
    "counts = dict()\n",
    "for word in words:\n",
    "    counts[word] = counts.get(word, 0) + 1"
   ]
  },
  {
   "cell_type": "code",
   "execution_count": 73,
   "metadata": {},
   "outputs": [],
   "source": [
    "sorted_by_value = sorted(counts.items(), key=lambda kv: kv[1])"
   ]
  },
  {
   "cell_type": "code",
   "execution_count": 74,
   "metadata": {},
   "outputs": [],
   "source": [
    "sorted_max = sorted_by_value[::-1]"
   ]
  },
  {
   "cell_type": "code",
   "execution_count": 78,
   "metadata": {},
   "outputs": [],
   "source": [
    "vals_shake = [val[1]/sorted_max[0][1] for val in sorted_max[:1000]]"
   ]
  },
  {
   "cell_type": "code",
   "execution_count": 79,
   "metadata": {},
   "outputs": [
    {
     "data": {
      "text/plain": [
       "Ttest_relResult(statistic=-11.817634811924625, pvalue=2.947533195048136e-30)"
      ]
     },
     "execution_count": 79,
     "metadata": {},
     "output_type": "execute_result"
    }
   ],
   "source": [
    "stats.ttest_rel(vals_plots, vals_shake)"
   ]
  },
  {
   "cell_type": "code",
   "execution_count": 80,
   "metadata": {},
   "outputs": [
    {
     "data": {
      "text/plain": [
       "<matplotlib.collections.PathCollection at 0x7f7d0144e240>"
      ]
     },
     "execution_count": 80,
     "metadata": {},
     "output_type": "execute_result"
    },
    {
     "data": {
      "image/png": "[encoded data removed]",
      "text/plain": [
       "<Figure size 432x288 with 1 Axes>"
      ]
     },
     "metadata": {
      "needs_background": "light"
     },
     "output_type": "display_data"
    }
   ],
   "source": [
    "plt.scatter(vals_plots, vals_shake)"
   ]
  },
  {
   "cell_type": "code",
   "execution_count": 52,
   "metadata": {},
   "outputs": [
    {
     "data": {
      "text/plain": [
       "array([ 0.        , -0.10866409, -0.040039  , -0.16174283, -0.31620796,\n",
       "       -0.23638498, -0.17465129, -0.17773149, -0.15904616, -0.12781848,\n",
       "       -0.12822364, -0.12500439, -0.13411061, -0.12564274, -0.12960129,\n",
       "       -0.13052383, -0.13646493, -0.13969712, -0.1433071 , -0.12359439,\n",
       "       -0.12824353, -0.12505272, -0.10450195, -0.10298916, -0.10171722,\n",
       "       -0.09629023, -0.09596494, -0.0861651 , -0.08531952, -0.07553085,\n",
       "       -0.07772073, -0.08114648, -0.08097524, -0.07902216, -0.07571105,\n",
       "       -0.07279161, -0.07226139, -0.07448705, -0.07628134, -0.07190687,\n",
       "       -0.06325552, -0.06025546, -0.06279663, -0.06260457, -0.06000177,\n",
       "       -0.05578895, -0.05338426, -0.05352912, -0.053512  , -0.05303916,\n",
       "       -0.05130913, -0.05022452, -0.04801545, -0.04942502, -0.04962875,\n",
       "       -0.04641181, -0.04325039, -0.04356706, -0.04291337, -0.04191615,\n",
       "       -0.04016781, -0.03984938, -0.03987433, -0.03828646, -0.03802502,\n",
       "       -0.03781111, -0.03719537, -0.03630665, -0.03622074, -0.03617232,\n",
       "       -0.0356236 , -0.03619566, -0.03571145, -0.03602974, -0.03604347,\n",
       "       -0.0355163 , -0.03563573, -0.03622566, -0.03577393, -0.03495682,\n",
       "       -0.03488714, -0.03469434, -0.03404021, -0.03342357, -0.03224079,\n",
       "       -0.03190759, -0.03009356, -0.0304523 , -0.03009224, -0.02878205,\n",
       "       -0.02814859, -0.02818107, -0.02839307, -0.02805663, -0.02767782,\n",
       "       -0.0264047 , -0.02572473, -0.02525779, -0.02472457, -0.02273397])"
      ]
     },
     "execution_count": 52,
     "metadata": {},
     "output_type": "execute_result"
    }
   ],
   "source": [
    "np.asarray(vals_plots) - np.asarray(vals_shake)"
   ]
  },
  {
   "cell_type": "code",
   "execution_count": 56,
   "metadata": {},
   "outputs": [
    {
     "data": {
      "text/plain": [
       "array([0.        , 0.15469941, 0.27394614, 0.22458469, 0.11517584,\n",
       "       0.12623549, 0.13590141, 0.14674986, 0.1294896 , 0.1092815 ,\n",
       "       0.09625019, 0.10108625, 0.06148893, 0.05867797, 0.05815712,\n",
       "       0.06047429, 0.05472258, 0.04593029, 0.04484702, 0.0461805 ,\n",
       "       0.04373575, 0.03704073, 0.03701207, 0.03305328, 0.034138  ,\n",
       "       0.03183397, 0.02903731, 0.02647639, 0.02608163, 0.02699987,\n",
       "       0.01974974, 0.01600784, 0.0169495 , 0.01661574, 0.01657384,\n",
       "       0.01604946, 0.01353436, 0.01184338, 0.01041487, 0.01097219,\n",
       "       0.01061069, 0.0106161 , 0.00695131, 0.00696566, 0.00729267,\n",
       "       0.00766283, 0.00796991, 0.006282  , 0.00615046, 0.00606037,\n",
       "       0.00637281, 0.00637786, 0.00603651, 0.00475565, 0.0047562 ,\n",
       "       0.00507556, 0.00528388, 0.00513727, 0.00528866, 0.00546485,\n",
       "       0.0057208 , 0.00577396, 0.00596088, 0.00598701, 0.00613572,\n",
       "       0.00618546, 0.00614455, 0.00628166, 0.00644828, 0.00661546,\n",
       "       0.0061736 , 0.00570887, 0.0058978 , 0.00567635, 0.00571038,\n",
       "       0.0056626 , 0.00549334, 0.00506992, 0.00488941, 0.00467295,\n",
       "       0.00480867, 0.00493133, 0.00507029, 0.00521239, 0.0052993 ,\n",
       "       0.00541617, 0.00550996, 0.00528184, 0.00537232, 0.00539485,\n",
       "       0.00540003, 0.00517801, 0.00499461, 0.00500404, 0.00487686,\n",
       "       0.00462644, 0.00466341, 0.00435274, 0.00432693, 0.00438808])"
      ]
     },
     "execution_count": 56,
     "metadata": {},
     "output_type": "execute_result"
    }
   ],
   "source": [
    "np.asarray(vals_plots) - np.asarray([1/n for n in range(1,101)])"
   ]
  },
  {
   "cell_type": "code",
   "execution_count": 82,
   "metadata": {},
   "outputs": [
    {
     "data": {
      "text/plain": [
       "Ttest_relResult(statistic=11.007158078965103, pvalue=1.1208721185766098e-26)"
      ]
     },
     "execution_count": 82,
     "metadata": {},
     "output_type": "execute_result"
    }
   ],
   "source": [
    "stats.ttest_rel(vals_shake, np.asarray([1/n for n in range(1,1001)]))"
   ]
  },
  {
   "cell_type": "code",
   "execution_count": 86,
   "metadata": {},
   "outputs": [
    {
     "data": {
      "text/plain": [
       "[<matplotlib.lines.Line2D at 0x7f7d52ea7240>]"
      ]
     },
     "execution_count": 86,
     "metadata": {},
     "output_type": "execute_result"
    },
    {
     "data": {
      "image/png": "[encoded data removed]",
      "text/plain": [
       "<Figure size 432x288 with 1 Axes>"
      ]
     },
     "metadata": {
      "needs_background": "light"
     },
     "output_type": "display_data"
    }
   ],
   "source": [
    "plt.loglog(vals_shake, np.arange(1, len(vals_shake)+1))"
   ]
  },
  {
   "cell_type": "code",
   "execution_count": 96,
   "metadata": {},
   "outputs": [],
   "source": [
    "log_shake = np.log(vals_shake)\n",
    "log_posts = np.log(vals_plots)\n",
    "log_rank = np.log(np.arange(1, len(vals_shake)+1))"
   ]
  },
  {
   "cell_type": "code",
   "execution_count": 97,
   "metadata": {},
   "outputs": [],
   "source": [
    "slope, intercept, r_value, p_value, std_err = stats.linregress(log_rank, log_posts)"
   ]
  },
  {
   "cell_type": "code",
   "execution_count": 98,
   "metadata": {},
   "outputs": [
    {
     "data": {
      "text/plain": [
       "-0.9630066837798338"
      ]
     },
     "execution_count": 98,
     "metadata": {},
     "output_type": "execute_result"
    }
   ],
   "source": [
    "slope"
   ]
  }
 ],
 "metadata": {
  "kernelspec": {
   "display_name": "Python 3",
   "language": "python",
   "name": "python3"
  },
  "language_info": {
   "codemirror_mode": {
    "name": "ipython",
    "version": 3
   },
   "file_extension": ".py",
   "mimetype": "text/x-python",
   "name": "python",
   "nbconvert_exporter": "python",
   "pygments_lexer": "ipython3",
   "version": "3.6.8"
  }
 },
 "nbformat": 4,
 "nbformat_minor": 2
}
