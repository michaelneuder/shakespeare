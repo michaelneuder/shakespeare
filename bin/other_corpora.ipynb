{
 "cells": [
  {
   "cell_type": "code",
   "execution_count": 39,
   "metadata": {},
   "outputs": [],
   "source": [
    "import matplotlib.pyplot as plt\n",
    "import numpy as np\n",
    "import os\n",
    "import pandas as pd\n",
    "import re\n",
    "import scipy.stats as stats\n",
    "import string"
   ]
  },
  {
   "cell_type": "code",
   "execution_count": 99,
   "metadata": {},
   "outputs": [],
   "source": [
    "data_path = '/home/michaelneuder/github/shakespeare/data'"
   ]
  },
  {
   "cell_type": "code",
   "execution_count": 133,
   "metadata": {},
   "outputs": [],
   "source": [
    "data = pd.read_csv(os.path.join(data_path, 'wiki_movie_plots_deduped.csv'))"
   ]
  },
  {
   "cell_type": "code",
   "execution_count": 134,
   "metadata": {},
   "outputs": [],
   "source": [
    "words = ''\n",
    "remove = string.punctuation\n",
    "pattern = r\"[{}]\".format(remove) \n",
    "\n",
    "for index, row in data.iterrows():\n",
    "    words += re.sub(pattern, \"\",row['Plot'].lower())"
   ]
  },
  {
   "cell_type": "code",
   "execution_count": 135,
   "metadata": {},
   "outputs": [],
   "source": [
    "words = words.split()"
   ]
  },
  {
   "cell_type": "code",
   "execution_count": 136,
   "metadata": {},
   "outputs": [],
   "source": [
    "counts = dict()\n",
    "for word in words:\n",
    "    counts[word] = counts.get(word, 0) + 1"
   ]
  },
  {
   "cell_type": "code",
   "execution_count": 137,
   "metadata": {},
   "outputs": [],
   "source": [
    "sorted_by_value = sorted(counts.items(), key=lambda kv: kv[1])"
   ]
  },
  {
   "cell_type": "code",
   "execution_count": 138,
   "metadata": {},
   "outputs": [],
   "source": [
    "sorted_max = sorted_by_value[::-1]"
   ]
  },
  {
   "cell_type": "code",
   "execution_count": 106,
   "metadata": {},
   "outputs": [],
   "source": [
    "vals_plots = [val[1]/sorted_max[0][1] for val in sorted_max[:1000]]"
   ]
  },
  {
   "cell_type": "code",
   "execution_count": 121,
   "metadata": {},
   "outputs": [],
   "source": [
    "plt.style.use('ggplot')"
   ]
  },
  {
   "cell_type": "code",
   "execution_count": 123,
   "metadata": {},
   "outputs": [
    {
     "data": {
      "image/png": "[encoded data removed]",
      "text/plain": [
       "<Figure size 720x360 with 1 Axes>"
      ]
     },
     "metadata": {},
     "output_type": "display_data"
    }
   ],
   "source": [
    "f, ax = plt.subplots(figsize=(10,5))\n",
    "ax.plot(np.arange(1, len(vals_plots)+1), vals_plots, '.')\n",
    "ax.set_xlabel('rank ($r$)')\n",
    "ax.set_ylabel('frequency ($f$)')\n",
    "plt.savefig('modern_normal.png')"
   ]
  },
  {
   "cell_type": "code",
   "execution_count": 127,
   "metadata": {},
   "outputs": [
    {
     "data": {
      "image/png": "[encoded data removed]",
      "text/plain": [
       "<Figure size 360x360 with 1 Axes>"
      ]
     },
     "metadata": {},
     "output_type": "display_data"
    }
   ],
   "source": [
    "f, ax = plt.subplots(figsize=(5,5))\n",
    "ax.loglog(vals_plots, np.arange(1, len(vals_plots)+1))\n",
    "ax.set_ylabel('rank ($r$)')\n",
    "ax.set_xlabel('frequency ($f$)')\n",
    "plt.savefig('modern_normal_ll.png')"
   ]
  },
  {
   "cell_type": "code",
   "execution_count": 156,
   "metadata": {},
   "outputs": [
    {
     "data": {
      "text/plain": [
       "LinregressResult(slope=-0.9630066837798338, intercept=0.2834325792091317, rvalue=-0.9981581817072496, pvalue=0.0, stderr=0.0018526909650422513)"
      ]
     },
     "execution_count": 156,
     "metadata": {},
     "output_type": "execute_result"
    }
   ],
   "source": [
    "stats.linregress(log_rank, log_posts)"
   ]
  },
  {
   "cell_type": "code",
   "execution_count": 157,
   "metadata": {},
   "outputs": [],
   "source": [
    "shake_data = pd.read_csv(os.path.join(data_path, 'Shakespeare_data.csv'))"
   ]
  },
  {
   "cell_type": "code",
   "execution_count": 169,
   "metadata": {},
   "outputs": [
    {
     "data": {
      "text/plain": [
       "['Henry IV',\n",
       " 'Henry VI Part 1',\n",
       " 'Henry VI Part 2',\n",
       " 'Henry VI Part 3',\n",
       " 'Alls well that ends well',\n",
       " 'As you like it',\n",
       " 'Antony and Cleopatra',\n",
       " 'A Comedy of Errors',\n",
       " 'Coriolanus',\n",
       " 'Cymbeline',\n",
       " 'Hamlet',\n",
       " 'Henry V',\n",
       " 'Henry VIII',\n",
       " 'King John',\n",
       " 'Julius Caesar',\n",
       " 'King Lear',\n",
       " 'Loves Labours Lost',\n",
       " 'macbeth',\n",
       " 'Measure for measure',\n",
       " 'Merchant of Venice',\n",
       " 'Merry Wives of Windsor',\n",
       " 'A Midsummer nights dream',\n",
       " 'Much Ado about nothing',\n",
       " 'Othello',\n",
       " 'Pericles',\n",
       " 'Richard II',\n",
       " 'Richard III',\n",
       " 'Romeo and Juliet',\n",
       " 'Taming of the Shrew',\n",
       " 'The Tempest',\n",
       " 'Timon of Athens',\n",
       " 'Titus Andronicus',\n",
       " 'Troilus and Cressida',\n",
       " 'Twelfth Night',\n",
       " 'Two Gentlemen of Verona',\n",
       " 'A Winters Tale']"
      ]
     },
     "execution_count": 169,
     "metadata": {},
     "output_type": "execute_result"
    }
   ],
   "source": [
    "list(shake_data['Play'].drop_duplicates())"
   ]
  },
  {
   "cell_type": "code",
   "execution_count": 187,
   "metadata": {},
   "outputs": [],
   "source": [
    "def getFreqs(data, play):\n",
    "    data = data[data.Play == play]\n",
    "    words = ''\n",
    "    remove = string.punctuation\n",
    "    pattern = r\"[{}]\".format(remove) \n",
    "\n",
    "    for index, row in data.iterrows():\n",
    "        words += re.sub(pattern, \"\",row['PlayerLine'].lower())\n",
    "    \n",
    "    words = words.split()\n",
    "    counts = dict()\n",
    "    for word in words:\n",
    "        counts[word] = counts.get(word, 0) + 1\n",
    "    sorted_by_value = sorted(counts.items(), key=lambda kv: kv[1])\n",
    "    sorted_max = sorted_by_value[::-1]\n",
    "    return [val[1] for val in sorted_max[:1000]]"
   ]
  },
  {
   "cell_type": "code",
   "execution_count": 189,
   "metadata": {},
   "outputs": [],
   "source": [
    "freqs = {}\n",
    "for key in list(shake_data['Play'].drop_duplicates()):\n",
    "    freqs[key] = getFreqs(shake_data, key)"
   ]
  },
  {
   "cell_type": "code",
   "execution_count": 215,
   "metadata": {},
   "outputs": [
    {
     "data": {
      "image/png": "[encoded data removed]",
      "text/plain": [
       "<Figure size 720x720 with 4 Axes>"
      ]
     },
     "metadata": {},
     "output_type": "display_data"
    }
   ],
   "source": [
    "f, ax_dict = plt.subplots(2,2, figsize = (10,10))\n",
    "ax_dict = ax_dict.flatten()\n",
    "ii = 0\n",
    "for key in list(freqs.keys())[18:]:\n",
    "    ax_dict[ii].loglog(freqs[key], np.arange(1, len(freqs[key])+1))\n",
    "    ax_dict[ii].set_title(key)\n",
    "    if ii % 2 == 0:\n",
    "        ax_dict[ii].set_ylabel('rank ($r$)')\n",
    "    if ii >= 2:\n",
    "        ax_dict[ii].set_xlabel('frequency ($f$)')\n",
    "    ii += 1\n",
    "    if ii > 3:\n",
    "        break\n",
    "plt.savefig('shake_plots.png')"
   ]
  },
  {
   "cell_type": "code",
   "execution_count": 238,
   "metadata": {},
   "outputs": [
    {
     "name": "stdout",
     "output_type": "stream",
     "text": [
      "-1.0798377338787242\n",
      "-1.043633604273753\n",
      "-1.052632462337193\n",
      "-1.0800162359761727\n",
      "-1.0914904856017222\n",
      "-1.0972645014505946\n",
      "-1.0824491034736174\n",
      "-1.0849269167659303\n",
      "-1.084209207605898\n",
      "-1.053140607700049\n",
      "-1.0821450834106496\n",
      "-1.0524946255713594\n",
      "-1.0655957347611793\n",
      "-1.0506447390470053\n",
      "-1.0788139926780251\n",
      "-1.080977823207561\n",
      "-1.0495766961057655\n",
      "-1.0040381102666651\n",
      "-1.1034472687894712\n",
      "-1.0878601479911705\n",
      "-1.118471250556796\n",
      "-1.0131266566570423\n",
      "-1.1125475102790197\n",
      "-1.1135670615868245\n",
      "-1.0410943442552967\n",
      "-1.0448143963475607\n",
      "-1.0491894046770498\n",
      "-1.0808091493346725\n",
      "-1.0858358999261453\n",
      "-0.99722834970715\n",
      "-1.0317638491098076\n",
      "-1.0663617128932033\n",
      "-1.0963963995614248\n",
      "-1.0795514978394725\n",
      "-1.0422878201516597\n",
      "-1.0989712055761494\n"
     ]
    }
   ],
   "source": [
    "slopes = {}\n",
    "for key in freqs:\n",
    "    log_rank = np.log(np.arange(1,1001))\n",
    "    log_freqs = np.log(freqs[key])\n",
    "    print(stats.linregress(log_rank, log_freqs).slope)\n",
    "    slopes[key] = stats.linregress(log_rank, log_freqs).slope"
   ]
  },
  {
   "cell_type": "code",
   "execution_count": 240,
   "metadata": {},
   "outputs": [
    {
     "data": {
      "text/plain": [
       "{'Henry IV': -1.0798377338787242,\n",
       " 'Henry VI Part 1': -1.043633604273753,\n",
       " 'Henry VI Part 2': -1.052632462337193,\n",
       " 'Henry VI Part 3': -1.0800162359761727,\n",
       " 'Alls well that ends well': -1.0914904856017222,\n",
       " 'As you like it': -1.0972645014505946,\n",
       " 'Antony and Cleopatra': -1.0824491034736174,\n",
       " 'A Comedy of Errors': -1.0849269167659303,\n",
       " 'Coriolanus': -1.084209207605898,\n",
       " 'Cymbeline': -1.053140607700049,\n",
       " 'Hamlet': -1.0821450834106496,\n",
       " 'Henry V': -1.0524946255713594,\n",
       " 'Henry VIII': -1.0655957347611793,\n",
       " 'King John': -1.0506447390470053,\n",
       " 'Julius Caesar': -1.0788139926780251,\n",
       " 'King Lear': -1.080977823207561,\n",
       " 'Loves Labours Lost': -1.0495766961057655,\n",
       " 'macbeth': -1.0040381102666651,\n",
       " 'Measure for measure': -1.1034472687894712,\n",
       " 'Merchant of Venice': -1.0878601479911705,\n",
       " 'Merry Wives of Windsor': -1.118471250556796,\n",
       " 'A Midsummer nights dream': -1.0131266566570423,\n",
       " 'Much Ado about nothing': -1.1125475102790197,\n",
       " 'Othello': -1.1135670615868245,\n",
       " 'Pericles': -1.0410943442552967,\n",
       " 'Richard II': -1.0448143963475607,\n",
       " 'Richard III': -1.0491894046770498,\n",
       " 'Romeo and Juliet': -1.0808091493346725,\n",
       " 'Taming of the Shrew': -1.0858358999261453,\n",
       " 'The Tempest': -0.99722834970715,\n",
       " 'Timon of Athens': -1.0317638491098076,\n",
       " 'Titus Andronicus': -1.0663617128932033,\n",
       " 'Troilus and Cressida': -1.0963963995614248,\n",
       " 'Twelfth Night': -1.0795514978394725,\n",
       " 'Two Gentlemen of Verona': -1.0422878201516597,\n",
       " 'A Winters Tale': -1.0989712055761494}"
      ]
     },
     "execution_count": 240,
     "metadata": {},
     "output_type": "execute_result"
    }
   ],
   "source": [
    "slopes"
   ]
  },
  {
   "cell_type": "code",
   "execution_count": 236,
   "metadata": {},
   "outputs": [
    {
     "data": {
      "text/plain": [
       "-1.0688114330375498"
      ]
     },
     "execution_count": 236,
     "metadata": {},
     "output_type": "execute_result"
    }
   ],
   "source": [
    "np.mean(slopes)"
   ]
  },
  {
   "cell_type": "code",
   "execution_count": 237,
   "metadata": {},
   "outputs": [
    {
     "data": {
      "text/plain": [
       "Ttest_1sampResult(statistic=-21.266047783005, pvalue=1.3418436748276727e-21)"
      ]
     },
     "execution_count": 237,
     "metadata": {},
     "output_type": "execute_result"
    }
   ],
   "source": [
    "stats.ttest_1samp(slopes, -.963)"
   ]
  },
  {
   "cell_type": "code",
   "execution_count": 86,
   "metadata": {},
   "outputs": [
    {
     "data": {
      "text/plain": [
       "[<matplotlib.lines.Line2D at 0x7f7d52ea7240>]"
      ]
     },
     "execution_count": 86,
     "metadata": {},
     "output_type": "execute_result"
    },
    {
     "data": {
      "image/png": "[encoded data removed]",
      "text/plain": [
       "<Figure size 432x288 with 1 Axes>"
      ]
     },
     "metadata": {
      "needs_background": "light"
     },
     "output_type": "display_data"
    }
   ],
   "source": [
    "plt.loglog(vals_shake, np.arange(1, len(vals_shake)+1))"
   ]
  },
  {
   "cell_type": "code",
   "execution_count": 153,
   "metadata": {},
   "outputs": [],
   "source": [
    "log_shake = np.log(vals_shake)\n",
    "log_posts = np.log(vals_plots)\n",
    "log_rank = np.log(np.arange(1, len(vals_shake)+1))"
   ]
  },
  {
   "cell_type": "code",
   "execution_count": 218,
   "metadata": {},
   "outputs": [
    {
     "data": {
      "text/plain": [
       "-0.9630066837798338"
      ]
     },
     "execution_count": 218,
     "metadata": {},
     "output_type": "execute_result"
    }
   ],
   "source": [
    "stats.linregress(log_rank, log_posts).slope"
   ]
  },
  {
   "cell_type": "code",
   "execution_count": 151,
   "metadata": {},
   "outputs": [
    {
     "data": {
      "text/plain": [
       "-0.9630066837798338"
      ]
     },
     "execution_count": 151,
     "metadata": {},
     "output_type": "execute_result"
    }
   ],
   "source": [
    "slope"
   ]
  }
 ],
 "metadata": {
  "kernelspec": {
   "display_name": "Python 3",
   "language": "python",
   "name": "python3"
  },
  "language_info": {
   "codemirror_mode": {
    "name": "ipython",
    "version": 3
   },
   "file_extension": ".py",
   "mimetype": "text/x-python",
   "name": "python",
   "nbconvert_exporter": "python",
   "pygments_lexer": "ipython3",
   "version": "3.6.8"
  }
 },
 "nbformat": 4,
 "nbformat_minor": 2
}
